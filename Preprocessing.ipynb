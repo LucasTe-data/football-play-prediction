{
 "cells": [
  {
   "cell_type": "code",
   "execution_count": 1,
   "metadata": {},
   "outputs": [],
   "source": [
    "import os\n",
    "\n",
    "import pandas as pd\n",
    "import numpy as np\n",
    "\n",
    "import matplotlib.pyplot as plt\n",
    "\n",
    "from sklearn.preprocessing import LabelBinarizer, OrdinalEncoder, StandardScaler"
   ]
  },
  {
   "cell_type": "code",
   "execution_count": 2,
   "metadata": {},
   "outputs": [],
   "source": [
    "PATH = './Data/Raw/'"
   ]
  },
  {
   "cell_type": "code",
   "execution_count": 3,
   "metadata": {},
   "outputs": [
    {
     "name": "stderr",
     "output_type": "stream",
     "text": [
      "C:\\Users\\Lucas\\anaconda3\\lib\\site-packages\\IPython\\core\\interactiveshell.py:3343: DtypeWarning: Columns (15,33) have mixed types.Specify dtype option on import or set low_memory=False.\n",
      "  exec(code_obj, self.user_global_ns, self.user_ns)\n"
     ]
    }
   ],
   "source": [
    "files = os.listdir(PATH)\n",
    "\n",
    "pbp_df = pd.DataFrame()\n",
    "for file in files:\n",
    "    temp_df = pd.read_csv(PATH + file, on_bad_lines = 'skip')\n",
    "    temp_df['File'] = file[4:8] # to be able to filter data later on by file \n",
    "    pbp_df = pbp_df.append(temp_df)"
   ]
  },
  {
   "cell_type": "code",
   "execution_count": 4,
   "metadata": {},
   "outputs": [
    {
     "name": "stdout",
     "output_type": "stream",
     "text": [
      "Data of 2494 individual Games.\n",
      "\n",
      "Shape: (445983, 46)\n",
      "      \n",
      "Columns:\n",
      "['GameId', 'GameDate', 'Quarter', 'Minute', 'Second', 'OffenseTeam', 'DefenseTeam', 'Down', 'ToGo', 'YardLine', 'Unnamed: 10', 'SeriesFirstDown', 'Unnamed: 12', 'NextScore', 'Description', 'TeamWin', 'Unnamed: 16', 'Unnamed: 17', 'SeasonYear', 'Yards', 'Formation', 'PlayType', 'IsRush', 'IsPass', 'IsIncomplete', 'IsTouchdown', 'PassType', 'IsSack', 'IsChallenge', 'IsChallengeReversed', 'Challenger', 'IsMeasurement', 'IsInterception', 'IsFumble', 'IsPenalty', 'IsTwoPointConversion', 'IsTwoPointConversionSuccessful', 'RushDirection', 'YardLineFixed', 'YardLineDirection', 'IsPenaltyAccepted', 'PenaltyTeam', 'IsNoPlay', 'PenaltyType', 'PenaltyYards', 'File']\n",
      "\n",
      "Missing:\n",
      "Unnamed: 10                       100.0%\n",
      "Unnamed: 12                       100.0%\n",
      "Challenger                        100.0%\n",
      "Unnamed: 17                       100.0%\n",
      "Unnamed: 16                       100.0%\n",
      "PenaltyTeam                       91.86%\n",
      "PenaltyType                       91.86%\n",
      "RushDirection                     72.58%\n",
      "PassType                          58.87%\n",
      "OffenseTeam                        7.64%\n",
      "PlayType                           3.69%\n",
      "DefenseTeam                        2.45%\n",
      "Formation                          1.81%\n",
      "Description                         0.0%\n",
      "YardLineDirection                   0.0%\n",
      "IsTwoPointConversion                0.0%\n",
      "IsPenaltyAccepted                   0.0%\n",
      "IsNoPlay                            0.0%\n",
      "IsIncomplete                        0.0%\n",
      "IsMeasurement                       0.0%\n",
      "PenaltyYards                        0.0%\n",
      "IsChallengeReversed                 0.0%\n",
      "IsTwoPointConversionSuccessful      0.0%\n",
      "YardLineFixed                       0.0%\n",
      "IsPenalty                           0.0%\n",
      "IsFumble                            0.0%\n",
      "IsInterception                      0.0%\n",
      "GameId                              0.0%\n",
      "IsPass                              0.0%\n",
      "IsChallenge                         0.0%\n",
      "SeriesFirstDown                     0.0%\n",
      "Quarter                             0.0%\n",
      "Minute                              0.0%\n",
      "Second                              0.0%\n",
      "Down                                0.0%\n",
      "ToGo                                0.0%\n",
      "YardLine                            0.0%\n",
      "NextScore                           0.0%\n",
      "IsSack                              0.0%\n",
      "TeamWin                             0.0%\n",
      "SeasonYear                          0.0%\n",
      "Yards                               0.0%\n",
      "IsRush                              0.0%\n",
      "GameDate                            0.0%\n",
      "IsTouchdown                         0.0%\n",
      "File                                0.0%\n",
      "dtype: object    \n",
      "\n"
     ]
    }
   ],
   "source": [
    "print(F'Data of {pbp_df[\"GameId\"].nunique()} individual Games.')\n",
    "\n",
    "print(F'''\n",
    "Shape: {pbp_df.shape}\n",
    "      \n",
    "Columns:\n",
    "{pbp_df.columns.tolist()}''')\n",
    "\n",
    "print(F\"\"\"\n",
    "Missing:\n",
    "{pbp_df.isnull().mean().mul(100).sort_values(ascending = False).round(2).astype(str) + '%'}    \n",
    "\"\"\")"
   ]
  },
  {
   "cell_type": "code",
   "execution_count": 5,
   "metadata": {},
   "outputs": [],
   "source": [
    "# drop unnecessary columns\n",
    "pbp_df = pbp_df.drop(labels = ['Unnamed: 12', 'Unnamed: 10', 'Unnamed: 16', 'Unnamed: 17', 'Challenger'], axis = 1)"
   ]
  },
  {
   "cell_type": "code",
   "execution_count": 6,
   "metadata": {},
   "outputs": [
    {
     "data": {
      "text/plain": [
       "1287.20625"
      ]
     },
     "execution_count": 6,
     "metadata": {},
     "output_type": "execute_result"
    }
   ],
   "source": [
    "# show how many points of data are available for every team per year\n",
    "pbp_df.groupby(['OffenseTeam', 'File']).size().mean() "
   ]
  },
  {
   "cell_type": "code",
   "execution_count": 7,
   "metadata": {},
   "outputs": [
    {
     "data": {
      "text/plain": [
       "array([nan, 'EXCEPTION', 'TIMEOUT', 'KICK OFF', 'QB KNEEL', 'PASS',\n",
       "       'SACK', 'RUSH', 'CLOCK STOP', 'PUNT', 'EXTRA POINT', 'NO PLAY',\n",
       "       'FIELD GOAL', 'SCRAMBLE', 'FUMBLES', 'TWO-POINT CONVERSION',\n",
       "       'PENALTY', '0'], dtype=object)"
      ]
     },
     "execution_count": 7,
     "metadata": {},
     "output_type": "execute_result"
    }
   ],
   "source": [
    "pbp_df['PlayType'].unique()"
   ]
  },
  {
   "cell_type": "code",
   "execution_count": 8,
   "metadata": {},
   "outputs": [
    {
     "data": {
      "text/plain": [
       "<matplotlib.axes._subplots.AxesSubplot at 0x1b0581cc048>"
      ]
     },
     "execution_count": 8,
     "metadata": {},
     "output_type": "execute_result"
    },
    {
     "data": {
      "image/png": "[encoded data removed]",
      "text/plain": [
       "<Figure size 432x288 with 1 Axes>"
      ]
     },
     "metadata": {
      "needs_background": "light"
     },
     "output_type": "display_data"
    }
   ],
   "source": [
    "pbp_df['PlayType'].value_counts().plot(kind = 'bar')"
   ]
  },
  {
   "cell_type": "code",
   "execution_count": 33,
   "metadata": {},
   "outputs": [],
   "source": [
    "# reduce down to relevant play types\n",
    "pbp_df = pbp_df.loc[pbp_df['PlayType'].isin(['PASS','RUSH'])]"
   ]
  },
  {
   "cell_type": "code",
   "execution_count": 34,
   "metadata": {},
   "outputs": [
    {
     "data": {
      "text/plain": [
       "array(['UNDER CENTER', 'SHOTGUN', 'NO HUDDLE SHOTGUN', 'NO HUDDLE'],\n",
       "      dtype=object)"
      ]
     },
     "execution_count": 34,
     "metadata": {},
     "output_type": "execute_result"
    }
   ],
   "source": [
    "pbp_df['Formation'].unique()"
   ]
  },
  {
   "cell_type": "code",
   "execution_count": 35,
   "metadata": {},
   "outputs": [
    {
     "data": {
      "text/plain": [
       "<matplotlib.axes._subplots.AxesSubplot at 0x1b053d19f08>"
      ]
     },
     "execution_count": 35,
     "metadata": {},
     "output_type": "execute_result"
    },
    {
     "data": {
      "image/png": "[encoded data removed]",
      "text/plain": [
       "<Figure size 432x288 with 1 Axes>"
      ]
     },
     "metadata": {
      "needs_background": "light"
     },
     "output_type": "display_data"
    }
   ],
   "source": [
    "pbp_df['Formation'].value_counts().plot(kind = 'bar')"
   ]
  },
  {
   "cell_type": "code",
   "execution_count": 36,
   "metadata": {},
   "outputs": [],
   "source": [
    "pbp_df = pbp_df.loc[pbp_df['Formation'].isin(['UNDER CENTER', 'NO HUDDLE', 'SHOTGUN', 'NO HUDDLE SHOTGUN'])]"
   ]
  },
  {
   "cell_type": "code",
   "execution_count": 37,
   "metadata": {},
   "outputs": [
    {
     "data": {
      "text/html": [
       "<div>\n",
       "<style scoped>\n",
       "    .dataframe tbody tr th:only-of-type {\n",
       "        vertical-align: middle;\n",
       "    }\n",
       "\n",
       "    .dataframe tbody tr th {\n",
       "        vertical-align: top;\n",
       "    }\n",
       "\n",
       "    .dataframe thead th {\n",
       "        text-align: right;\n",
       "    }\n",
       "</style>\n",
       "<table border=\"1\" class=\"dataframe\">\n",
       "  <thead>\n",
       "    <tr style=\"text-align: right;\">\n",
       "      <th></th>\n",
       "      <th>GameId</th>\n",
       "      <th>Quarter</th>\n",
       "      <th>Minute</th>\n",
       "      <th>Second</th>\n",
       "      <th>Down</th>\n",
       "      <th>ToGo</th>\n",
       "      <th>YardLine</th>\n",
       "      <th>SeriesFirstDown</th>\n",
       "      <th>NextScore</th>\n",
       "      <th>SeasonYear</th>\n",
       "      <th>Yards</th>\n",
       "      <th>IsRush</th>\n",
       "      <th>IsPass</th>\n",
       "      <th>IsIncomplete</th>\n",
       "      <th>IsTouchdown</th>\n",
       "      <th>IsSack</th>\n",
       "      <th>IsChallenge</th>\n",
       "      <th>IsChallengeReversed</th>\n",
       "      <th>IsMeasurement</th>\n",
       "      <th>IsInterception</th>\n",
       "      <th>IsPenalty</th>\n",
       "      <th>IsTwoPointConversion</th>\n",
       "      <th>IsTwoPointConversionSuccessful</th>\n",
       "      <th>YardLineFixed</th>\n",
       "      <th>IsPenaltyAccepted</th>\n",
       "      <th>IsNoPlay</th>\n",
       "      <th>PenaltyYards</th>\n",
       "    </tr>\n",
       "  </thead>\n",
       "  <tbody>\n",
       "    <tr>\n",
       "      <th>count</th>\n",
       "      <td>3.056990e+05</td>\n",
       "      <td>305699.000000</td>\n",
       "      <td>305699.000000</td>\n",
       "      <td>305699.000000</td>\n",
       "      <td>305699.000000</td>\n",
       "      <td>305699.000000</td>\n",
       "      <td>305699.000000</td>\n",
       "      <td>305699.000000</td>\n",
       "      <td>305699.0</td>\n",
       "      <td>305699.000000</td>\n",
       "      <td>305699.000000</td>\n",
       "      <td>305699.000000</td>\n",
       "      <td>305699.000000</td>\n",
       "      <td>305699.000000</td>\n",
       "      <td>305699.000000</td>\n",
       "      <td>305699.0</td>\n",
       "      <td>305699.000000</td>\n",
       "      <td>305699.000000</td>\n",
       "      <td>305699.0</td>\n",
       "      <td>305699.000000</td>\n",
       "      <td>305699.000000</td>\n",
       "      <td>305699.0</td>\n",
       "      <td>305699.0</td>\n",
       "      <td>305699.000000</td>\n",
       "      <td>305699.000000</td>\n",
       "      <td>305699.000000</td>\n",
       "      <td>305699.000000</td>\n",
       "    </tr>\n",
       "    <tr>\n",
       "      <th>mean</th>\n",
       "      <td>2.017480e+09</td>\n",
       "      <td>2.554460</td>\n",
       "      <td>6.775335</td>\n",
       "      <td>28.568530</td>\n",
       "      <td>1.777991</td>\n",
       "      <td>8.573531</td>\n",
       "      <td>48.460309</td>\n",
       "      <td>0.286645</td>\n",
       "      <td>0.0</td>\n",
       "      <td>2017.352278</td>\n",
       "      <td>6.163707</td>\n",
       "      <td>0.399975</td>\n",
       "      <td>0.600025</td>\n",
       "      <td>0.214011</td>\n",
       "      <td>0.042454</td>\n",
       "      <td>0.0</td>\n",
       "      <td>0.006035</td>\n",
       "      <td>0.002509</td>\n",
       "      <td>0.0</td>\n",
       "      <td>0.014809</td>\n",
       "      <td>0.067727</td>\n",
       "      <td>0.0</td>\n",
       "      <td>0.0</td>\n",
       "      <td>28.767585</td>\n",
       "      <td>0.056425</td>\n",
       "      <td>0.043252</td>\n",
       "      <td>0.561314</td>\n",
       "    </tr>\n",
       "    <tr>\n",
       "      <th>std</th>\n",
       "      <td>2.846137e+06</td>\n",
       "      <td>1.129699</td>\n",
       "      <td>4.512713</td>\n",
       "      <td>17.746277</td>\n",
       "      <td>0.815478</td>\n",
       "      <td>3.955226</td>\n",
       "      <td>24.774603</td>\n",
       "      <td>0.452195</td>\n",
       "      <td>0.0</td>\n",
       "      <td>2.850958</td>\n",
       "      <td>8.964792</td>\n",
       "      <td>0.489894</td>\n",
       "      <td>0.489894</td>\n",
       "      <td>0.410135</td>\n",
       "      <td>0.201622</td>\n",
       "      <td>0.0</td>\n",
       "      <td>0.077453</td>\n",
       "      <td>0.050027</td>\n",
       "      <td>0.0</td>\n",
       "      <td>0.120787</td>\n",
       "      <td>0.251277</td>\n",
       "      <td>0.0</td>\n",
       "      <td>0.0</td>\n",
       "      <td>12.858255</td>\n",
       "      <td>0.230741</td>\n",
       "      <td>0.203424</td>\n",
       "      <td>2.739011</td>\n",
       "    </tr>\n",
       "    <tr>\n",
       "      <th>min</th>\n",
       "      <td>2.013090e+09</td>\n",
       "      <td>1.000000</td>\n",
       "      <td>0.000000</td>\n",
       "      <td>0.000000</td>\n",
       "      <td>0.000000</td>\n",
       "      <td>0.000000</td>\n",
       "      <td>0.000000</td>\n",
       "      <td>0.000000</td>\n",
       "      <td>0.0</td>\n",
       "      <td>2013.000000</td>\n",
       "      <td>-26.000000</td>\n",
       "      <td>0.000000</td>\n",
       "      <td>0.000000</td>\n",
       "      <td>0.000000</td>\n",
       "      <td>0.000000</td>\n",
       "      <td>0.0</td>\n",
       "      <td>0.000000</td>\n",
       "      <td>0.000000</td>\n",
       "      <td>0.0</td>\n",
       "      <td>0.000000</td>\n",
       "      <td>0.000000</td>\n",
       "      <td>0.0</td>\n",
       "      <td>0.0</td>\n",
       "      <td>0.000000</td>\n",
       "      <td>0.000000</td>\n",
       "      <td>0.000000</td>\n",
       "      <td>0.000000</td>\n",
       "    </tr>\n",
       "    <tr>\n",
       "      <th>25%</th>\n",
       "      <td>2.015103e+09</td>\n",
       "      <td>2.000000</td>\n",
       "      <td>3.000000</td>\n",
       "      <td>13.000000</td>\n",
       "      <td>1.000000</td>\n",
       "      <td>6.000000</td>\n",
       "      <td>27.000000</td>\n",
       "      <td>0.000000</td>\n",
       "      <td>0.0</td>\n",
       "      <td>2015.000000</td>\n",
       "      <td>0.000000</td>\n",
       "      <td>0.000000</td>\n",
       "      <td>0.000000</td>\n",
       "      <td>0.000000</td>\n",
       "      <td>0.000000</td>\n",
       "      <td>0.0</td>\n",
       "      <td>0.000000</td>\n",
       "      <td>0.000000</td>\n",
       "      <td>0.0</td>\n",
       "      <td>0.000000</td>\n",
       "      <td>0.000000</td>\n",
       "      <td>0.0</td>\n",
       "      <td>0.0</td>\n",
       "      <td>20.000000</td>\n",
       "      <td>0.000000</td>\n",
       "      <td>0.000000</td>\n",
       "      <td>0.000000</td>\n",
       "    </tr>\n",
       "    <tr>\n",
       "      <th>50%</th>\n",
       "      <td>2.017121e+09</td>\n",
       "      <td>3.000000</td>\n",
       "      <td>7.000000</td>\n",
       "      <td>28.000000</td>\n",
       "      <td>2.000000</td>\n",
       "      <td>10.000000</td>\n",
       "      <td>45.000000</td>\n",
       "      <td>0.000000</td>\n",
       "      <td>0.0</td>\n",
       "      <td>2017.000000</td>\n",
       "      <td>4.000000</td>\n",
       "      <td>0.000000</td>\n",
       "      <td>1.000000</td>\n",
       "      <td>0.000000</td>\n",
       "      <td>0.000000</td>\n",
       "      <td>0.0</td>\n",
       "      <td>0.000000</td>\n",
       "      <td>0.000000</td>\n",
       "      <td>0.0</td>\n",
       "      <td>0.000000</td>\n",
       "      <td>0.000000</td>\n",
       "      <td>0.0</td>\n",
       "      <td>0.0</td>\n",
       "      <td>29.000000</td>\n",
       "      <td>0.000000</td>\n",
       "      <td>0.000000</td>\n",
       "      <td>0.000000</td>\n",
       "    </tr>\n",
       "    <tr>\n",
       "      <th>75%</th>\n",
       "      <td>2.020102e+09</td>\n",
       "      <td>4.000000</td>\n",
       "      <td>11.000000</td>\n",
       "      <td>44.000000</td>\n",
       "      <td>2.000000</td>\n",
       "      <td>10.000000</td>\n",
       "      <td>68.000000</td>\n",
       "      <td>1.000000</td>\n",
       "      <td>0.0</td>\n",
       "      <td>2020.000000</td>\n",
       "      <td>9.000000</td>\n",
       "      <td>1.000000</td>\n",
       "      <td>1.000000</td>\n",
       "      <td>0.000000</td>\n",
       "      <td>0.000000</td>\n",
       "      <td>0.0</td>\n",
       "      <td>0.000000</td>\n",
       "      <td>0.000000</td>\n",
       "      <td>0.0</td>\n",
       "      <td>0.000000</td>\n",
       "      <td>0.000000</td>\n",
       "      <td>0.0</td>\n",
       "      <td>0.0</td>\n",
       "      <td>40.000000</td>\n",
       "      <td>0.000000</td>\n",
       "      <td>0.000000</td>\n",
       "      <td>0.000000</td>\n",
       "    </tr>\n",
       "    <tr>\n",
       "      <th>max</th>\n",
       "      <td>2.022122e+09</td>\n",
       "      <td>5.000000</td>\n",
       "      <td>15.000000</td>\n",
       "      <td>59.000000</td>\n",
       "      <td>4.000000</td>\n",
       "      <td>48.000000</td>\n",
       "      <td>100.000000</td>\n",
       "      <td>1.000000</td>\n",
       "      <td>0.0</td>\n",
       "      <td>2022.000000</td>\n",
       "      <td>104.000000</td>\n",
       "      <td>1.000000</td>\n",
       "      <td>1.000000</td>\n",
       "      <td>1.000000</td>\n",
       "      <td>1.000000</td>\n",
       "      <td>0.0</td>\n",
       "      <td>1.000000</td>\n",
       "      <td>1.000000</td>\n",
       "      <td>0.0</td>\n",
       "      <td>1.000000</td>\n",
       "      <td>1.000000</td>\n",
       "      <td>0.0</td>\n",
       "      <td>0.0</td>\n",
       "      <td>50.000000</td>\n",
       "      <td>1.000000</td>\n",
       "      <td>1.000000</td>\n",
       "      <td>66.000000</td>\n",
       "    </tr>\n",
       "  </tbody>\n",
       "</table>\n",
       "</div>"
      ],
      "text/plain": [
       "             GameId        Quarter         Minute         Second  \\\n",
       "count  3.056990e+05  305699.000000  305699.000000  305699.000000   \n",
       "mean   2.017480e+09       2.554460       6.775335      28.568530   \n",
       "std    2.846137e+06       1.129699       4.512713      17.746277   \n",
       "min    2.013090e+09       1.000000       0.000000       0.000000   \n",
       "25%    2.015103e+09       2.000000       3.000000      13.000000   \n",
       "50%    2.017121e+09       3.000000       7.000000      28.000000   \n",
       "75%    2.020102e+09       4.000000      11.000000      44.000000   \n",
       "max    2.022122e+09       5.000000      15.000000      59.000000   \n",
       "\n",
       "                Down           ToGo       YardLine  SeriesFirstDown  \\\n",
       "count  305699.000000  305699.000000  305699.000000    305699.000000   \n",
       "mean        1.777991       8.573531      48.460309         0.286645   \n",
       "std         0.815478       3.955226      24.774603         0.452195   \n",
       "min         0.000000       0.000000       0.000000         0.000000   \n",
       "25%         1.000000       6.000000      27.000000         0.000000   \n",
       "50%         2.000000      10.000000      45.000000         0.000000   \n",
       "75%         2.000000      10.000000      68.000000         1.000000   \n",
       "max         4.000000      48.000000     100.000000         1.000000   \n",
       "\n",
       "       NextScore     SeasonYear          Yards         IsRush         IsPass  \\\n",
       "count   305699.0  305699.000000  305699.000000  305699.000000  305699.000000   \n",
       "mean         0.0    2017.352278       6.163707       0.399975       0.600025   \n",
       "std          0.0       2.850958       8.964792       0.489894       0.489894   \n",
       "min          0.0    2013.000000     -26.000000       0.000000       0.000000   \n",
       "25%          0.0    2015.000000       0.000000       0.000000       0.000000   \n",
       "50%          0.0    2017.000000       4.000000       0.000000       1.000000   \n",
       "75%          0.0    2020.000000       9.000000       1.000000       1.000000   \n",
       "max          0.0    2022.000000     104.000000       1.000000       1.000000   \n",
       "\n",
       "        IsIncomplete    IsTouchdown    IsSack    IsChallenge  \\\n",
       "count  305699.000000  305699.000000  305699.0  305699.000000   \n",
       "mean        0.214011       0.042454       0.0       0.006035   \n",
       "std         0.410135       0.201622       0.0       0.077453   \n",
       "min         0.000000       0.000000       0.0       0.000000   \n",
       "25%         0.000000       0.000000       0.0       0.000000   \n",
       "50%         0.000000       0.000000       0.0       0.000000   \n",
       "75%         0.000000       0.000000       0.0       0.000000   \n",
       "max         1.000000       1.000000       0.0       1.000000   \n",
       "\n",
       "       IsChallengeReversed  IsMeasurement  IsInterception      IsPenalty  \\\n",
       "count        305699.000000       305699.0   305699.000000  305699.000000   \n",
       "mean              0.002509            0.0        0.014809       0.067727   \n",
       "std               0.050027            0.0        0.120787       0.251277   \n",
       "min               0.000000            0.0        0.000000       0.000000   \n",
       "25%               0.000000            0.0        0.000000       0.000000   \n",
       "50%               0.000000            0.0        0.000000       0.000000   \n",
       "75%               0.000000            0.0        0.000000       0.000000   \n",
       "max               1.000000            0.0        1.000000       1.000000   \n",
       "\n",
       "       IsTwoPointConversion  IsTwoPointConversionSuccessful  YardLineFixed  \\\n",
       "count              305699.0                        305699.0  305699.000000   \n",
       "mean                    0.0                             0.0      28.767585   \n",
       "std                     0.0                             0.0      12.858255   \n",
       "min                     0.0                             0.0       0.000000   \n",
       "25%                     0.0                             0.0      20.000000   \n",
       "50%                     0.0                             0.0      29.000000   \n",
       "75%                     0.0                             0.0      40.000000   \n",
       "max                     0.0                             0.0      50.000000   \n",
       "\n",
       "       IsPenaltyAccepted       IsNoPlay   PenaltyYards  \n",
       "count      305699.000000  305699.000000  305699.000000  \n",
       "mean            0.056425       0.043252       0.561314  \n",
       "std             0.230741       0.203424       2.739011  \n",
       "min             0.000000       0.000000       0.000000  \n",
       "25%             0.000000       0.000000       0.000000  \n",
       "50%             0.000000       0.000000       0.000000  \n",
       "75%             0.000000       0.000000       0.000000  \n",
       "max             1.000000       1.000000      66.000000  "
      ]
     },
     "execution_count": 37,
     "metadata": {},
     "output_type": "execute_result"
    }
   ],
   "source": [
    "pd.set_option('display.max_columns', 500)\n",
    "pbp_df.describe()"
   ]
  },
  {
   "cell_type": "code",
   "execution_count": 38,
   "metadata": {},
   "outputs": [
    {
     "data": {
      "text/plain": [
       "1    138018\n",
       "2    102512\n",
       "3     60112\n",
       "4      5038\n",
       "0        19\n",
       "Name: Down, dtype: int64"
      ]
     },
     "execution_count": 38,
     "metadata": {},
     "output_type": "execute_result"
    }
   ],
   "source": [
    "pbp_df['Down'].value_counts()"
   ]
  },
  {
   "cell_type": "code",
   "execution_count": 42,
   "metadata": {},
   "outputs": [],
   "source": [
    "pbp_df = pbp_df.loc[pbp_df['Down'] != 0] # get rid of 0 Down Situations"
   ]
  },
  {
   "cell_type": "code",
   "execution_count": 45,
   "metadata": {},
   "outputs": [],
   "source": [
    "pbp_df['GameTime'] = (pbp_df['Quarter'] - 1) *15 - pbp_df['Minute'] + 15 + (- pbp_df['Second'] + 60)*0.016"
   ]
  },
  {
   "cell_type": "code",
   "execution_count": 46,
   "metadata": {},
   "outputs": [
    {
     "data": {
      "text/plain": [
       "<matplotlib.axes._subplots.AxesSubplot at 0x1b060a2a508>"
      ]
     },
     "execution_count": 46,
     "metadata": {},
     "output_type": "execute_result"
    },
    {
     "data": {
      "image/png": "[encoded data removed]",
      "text/plain": [
       "<Figure size 432x288 with 1 Axes>"
      ]
     },
     "metadata": {
      "needs_background": "light"
     },
     "output_type": "display_data"
    }
   ],
   "source": [
    "pbp_df['GameTime'].hist()"
   ]
  },
  {
   "cell_type": "code",
   "execution_count": 47,
   "metadata": {},
   "outputs": [],
   "source": [
    "pbp_df= pbp_df.sort_values(by = ['GameId','GameTime'])\n",
    "pbp_df.reset_index(drop=True, inplace = True)"
   ]
  },
  {
   "cell_type": "code",
   "execution_count": 53,
   "metadata": {},
   "outputs": [],
   "source": [
    "pbp_df.loc[pbp_df['OffenseTeam'] == pbp_df['OffenseTeam'].shift(1), 'PreviousPlay'] = pbp_df['PlayType'].shift(1)"
   ]
  },
  {
   "cell_type": "code",
   "execution_count": 59,
   "metadata": {},
   "outputs": [],
   "source": [
    "formation_encoder = LabelBinarizer()\n",
    "formation_encoder.fit(pbp_df['Formation'])\n",
    "transformed = formation_encoder.transform(pbp_df['Formation'])\n",
    "\n",
    "ohe_df = pd.DataFrame(transformed, columns = formation_encoder.classes_)\n",
    "pbp_df = pd.concat([pbp_df, ohe_df], axis=1)"
   ]
  },
  {
   "cell_type": "code",
   "execution_count": 63,
   "metadata": {},
   "outputs": [],
   "source": [
    "# pbp_df.to_csv('./Data/Processed/pbp-processed.csv')"
   ]
  },
  {
   "cell_type": "code",
   "execution_count": 65,
   "metadata": {},
   "outputs": [],
   "source": []
  },
  {
   "cell_type": "code",
   "execution_count": 66,
   "metadata": {},
   "outputs": [
    {
     "data": {
      "text/html": [
       "<div>\n",
       "<style scoped>\n",
       "    .dataframe tbody tr th:only-of-type {\n",
       "        vertical-align: middle;\n",
       "    }\n",
       "\n",
       "    .dataframe tbody tr th {\n",
       "        vertical-align: top;\n",
       "    }\n",
       "\n",
       "    .dataframe thead th {\n",
       "        text-align: right;\n",
       "    }\n",
       "</style>\n",
       "<table border=\"1\" class=\"dataframe\">\n",
       "  <thead>\n",
       "    <tr style=\"text-align: right;\">\n",
       "      <th></th>\n",
       "      <th>Survived</th>\n",
       "      <th>Pclass</th>\n",
       "      <th>Name</th>\n",
       "      <th>Sex</th>\n",
       "      <th>Age</th>\n",
       "      <th>Siblings/Spouses Aboard</th>\n",
       "      <th>Parents/Children Aboard</th>\n",
       "      <th>Fare</th>\n",
       "    </tr>\n",
       "  </thead>\n",
       "  <tbody>\n",
       "    <tr>\n",
       "      <th>0</th>\n",
       "      <td>0</td>\n",
       "      <td>3</td>\n",
       "      <td>Mr. Owen Harris Braund</td>\n",
       "      <td>male</td>\n",
       "      <td>22.0</td>\n",
       "      <td>1</td>\n",
       "      <td>0</td>\n",
       "      <td>7.2500</td>\n",
       "    </tr>\n",
       "    <tr>\n",
       "      <th>1</th>\n",
       "      <td>1</td>\n",
       "      <td>1</td>\n",
       "      <td>Mrs. John Bradley (Florence Briggs Thayer) Cum...</td>\n",
       "      <td>female</td>\n",
       "      <td>38.0</td>\n",
       "      <td>1</td>\n",
       "      <td>0</td>\n",
       "      <td>71.2833</td>\n",
       "    </tr>\n",
       "    <tr>\n",
       "      <th>2</th>\n",
       "      <td>1</td>\n",
       "      <td>3</td>\n",
       "      <td>Miss. Laina Heikkinen</td>\n",
       "      <td>female</td>\n",
       "      <td>26.0</td>\n",
       "      <td>0</td>\n",
       "      <td>0</td>\n",
       "      <td>7.9250</td>\n",
       "    </tr>\n",
       "    <tr>\n",
       "      <th>3</th>\n",
       "      <td>1</td>\n",
       "      <td>1</td>\n",
       "      <td>Mrs. Jacques Heath (Lily May Peel) Futrelle</td>\n",
       "      <td>female</td>\n",
       "      <td>35.0</td>\n",
       "      <td>1</td>\n",
       "      <td>0</td>\n",
       "      <td>53.1000</td>\n",
       "    </tr>\n",
       "    <tr>\n",
       "      <th>4</th>\n",
       "      <td>0</td>\n",
       "      <td>3</td>\n",
       "      <td>Mr. William Henry Allen</td>\n",
       "      <td>male</td>\n",
       "      <td>35.0</td>\n",
       "      <td>0</td>\n",
       "      <td>0</td>\n",
       "      <td>8.0500</td>\n",
       "    </tr>\n",
       "    <tr>\n",
       "      <th>...</th>\n",
       "      <td>...</td>\n",
       "      <td>...</td>\n",
       "      <td>...</td>\n",
       "      <td>...</td>\n",
       "      <td>...</td>\n",
       "      <td>...</td>\n",
       "      <td>...</td>\n",
       "      <td>...</td>\n",
       "    </tr>\n",
       "    <tr>\n",
       "      <th>882</th>\n",
       "      <td>0</td>\n",
       "      <td>2</td>\n",
       "      <td>Rev. Juozas Montvila</td>\n",
       "      <td>male</td>\n",
       "      <td>27.0</td>\n",
       "      <td>0</td>\n",
       "      <td>0</td>\n",
       "      <td>13.0000</td>\n",
       "    </tr>\n",
       "    <tr>\n",
       "      <th>883</th>\n",
       "      <td>1</td>\n",
       "      <td>1</td>\n",
       "      <td>Miss. Margaret Edith Graham</td>\n",
       "      <td>female</td>\n",
       "      <td>19.0</td>\n",
       "      <td>0</td>\n",
       "      <td>0</td>\n",
       "      <td>30.0000</td>\n",
       "    </tr>\n",
       "    <tr>\n",
       "      <th>884</th>\n",
       "      <td>0</td>\n",
       "      <td>3</td>\n",
       "      <td>Miss. Catherine Helen Johnston</td>\n",
       "      <td>female</td>\n",
       "      <td>7.0</td>\n",
       "      <td>1</td>\n",
       "      <td>2</td>\n",
       "      <td>23.4500</td>\n",
       "    </tr>\n",
       "    <tr>\n",
       "      <th>885</th>\n",
       "      <td>1</td>\n",
       "      <td>1</td>\n",
       "      <td>Mr. Karl Howell Behr</td>\n",
       "      <td>male</td>\n",
       "      <td>26.0</td>\n",
       "      <td>0</td>\n",
       "      <td>0</td>\n",
       "      <td>30.0000</td>\n",
       "    </tr>\n",
       "    <tr>\n",
       "      <th>886</th>\n",
       "      <td>0</td>\n",
       "      <td>3</td>\n",
       "      <td>Mr. Patrick Dooley</td>\n",
       "      <td>male</td>\n",
       "      <td>32.0</td>\n",
       "      <td>0</td>\n",
       "      <td>0</td>\n",
       "      <td>7.7500</td>\n",
       "    </tr>\n",
       "  </tbody>\n",
       "</table>\n",
       "<p>887 rows × 8 columns</p>\n",
       "</div>"
      ],
      "text/plain": [
       "     Survived  Pclass                                               Name  \\\n",
       "0           0       3                             Mr. Owen Harris Braund   \n",
       "1           1       1  Mrs. John Bradley (Florence Briggs Thayer) Cum...   \n",
       "2           1       3                              Miss. Laina Heikkinen   \n",
       "3           1       1        Mrs. Jacques Heath (Lily May Peel) Futrelle   \n",
       "4           0       3                            Mr. William Henry Allen   \n",
       "..        ...     ...                                                ...   \n",
       "882         0       2                               Rev. Juozas Montvila   \n",
       "883         1       1                        Miss. Margaret Edith Graham   \n",
       "884         0       3                     Miss. Catherine Helen Johnston   \n",
       "885         1       1                               Mr. Karl Howell Behr   \n",
       "886         0       3                                 Mr. Patrick Dooley   \n",
       "\n",
       "        Sex   Age  Siblings/Spouses Aboard  Parents/Children Aboard     Fare  \n",
       "0      male  22.0                        1                        0   7.2500  \n",
       "1    female  38.0                        1                        0  71.2833  \n",
       "2    female  26.0                        0                        0   7.9250  \n",
       "3    female  35.0                        1                        0  53.1000  \n",
       "4      male  35.0                        0                        0   8.0500  \n",
       "..      ...   ...                      ...                      ...      ...  \n",
       "882    male  27.0                        0                        0  13.0000  \n",
       "883  female  19.0                        0                        0  30.0000  \n",
       "884  female   7.0                        1                        2  23.4500  \n",
       "885    male  26.0                        0                        0  30.0000  \n",
       "886    male  32.0                        0                        0   7.7500  \n",
       "\n",
       "[887 rows x 8 columns]"
      ]
     },
     "execution_count": 66,
     "metadata": {},
     "output_type": "execute_result"
    }
   ],
   "source": []
  }
 ],
 "metadata": {
  "kernelspec": {
   "display_name": "Python 3",
   "language": "python",
   "name": "python3"
  },
  "language_info": {
   "codemirror_mode": {
    "name": "ipython",
    "version": 3
   },
   "file_extension": ".py",
   "mimetype": "text/x-python",
   "name": "python",
   "nbconvert_exporter": "python",
   "pygments_lexer": "ipython3",
   "version": "3.7.7"
  }
 },
 "nbformat": 4,
 "nbformat_minor": 4
}
