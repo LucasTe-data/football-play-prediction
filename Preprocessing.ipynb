{
 "cells": [
  {
   "cell_type": "code",
   "execution_count": 1,
   "metadata": {},
   "outputs": [],
   "source": [
    "import os\n",
    "\n",
    "import pandas as pd\n",
    "import numpy as np\n",
    "\n",
    "import matplotlib.pyplot as plt\n",
    "\n",
    "from sklearn.preprocessing import LabelBinarizer, OrdinalEncoder, StandardScaler"
   ]
  },
  {
   "cell_type": "code",
   "execution_count": 2,
   "metadata": {},
   "outputs": [],
   "source": [
    "PATH = './Data/Raw/'"
   ]
  },
  {
   "cell_type": "code",
   "execution_count": 3,
   "metadata": {},
   "outputs": [
    {
     "name": "stderr",
     "output_type": "stream",
     "text": [
      "C:\\Users\\Lucas\\anaconda3\\lib\\site-packages\\IPython\\core\\interactiveshell.py:3343: DtypeWarning: Columns (15,33) have mixed types.Specify dtype option on import or set low_memory=False.\n",
      "  exec(code_obj, self.user_global_ns, self.user_ns)\n"
     ]
    }
   ],
   "source": [
    "files = os.listdir(PATH)\n",
    "\n",
    "pbp_df = pd.DataFrame()\n",
    "for file in files:\n",
    "    temp_df = pd.read_csv(PATH + file, on_bad_lines = 'skip')\n",
    "    temp_df['File'] = file[4:8] # to be able to filter data later on by file \n",
    "    pbp_df = pbp_df.append(temp_df)"
   ]
  },
  {
   "cell_type": "code",
   "execution_count": 4,
   "metadata": {},
   "outputs": [
    {
     "name": "stdout",
     "output_type": "stream",
     "text": [
      "Data of 2494 individual Games.\n",
      "\n",
      "Shape: (445983, 46)\n",
      "      \n",
      "Columns:\n",
      "['GameId', 'GameDate', 'Quarter', 'Minute', 'Second', 'OffenseTeam', 'DefenseTeam', 'Down', 'ToGo', 'YardLine', 'Unnamed: 10', 'SeriesFirstDown', 'Unnamed: 12', 'NextScore', 'Description', 'TeamWin', 'Unnamed: 16', 'Unnamed: 17', 'SeasonYear', 'Yards', 'Formation', 'PlayType', 'IsRush', 'IsPass', 'IsIncomplete', 'IsTouchdown', 'PassType', 'IsSack', 'IsChallenge', 'IsChallengeReversed', 'Challenger', 'IsMeasurement', 'IsInterception', 'IsFumble', 'IsPenalty', 'IsTwoPointConversion', 'IsTwoPointConversionSuccessful', 'RushDirection', 'YardLineFixed', 'YardLineDirection', 'IsPenaltyAccepted', 'PenaltyTeam', 'IsNoPlay', 'PenaltyType', 'PenaltyYards', 'File']\n",
      "\n",
      "Missing:\n",
      "Unnamed: 10                       100.0%\n",
      "Unnamed: 12                       100.0%\n",
      "Challenger                        100.0%\n",
      "Unnamed: 17                       100.0%\n",
      "Unnamed: 16                       100.0%\n",
      "PenaltyTeam                       91.86%\n",
      "PenaltyType                       91.86%\n",
      "RushDirection                     72.58%\n",
      "PassType                          58.87%\n",
      "OffenseTeam                        7.64%\n",
      "PlayType                           3.69%\n",
      "DefenseTeam                        2.45%\n",
      "Formation                          1.81%\n",
      "Description                         0.0%\n",
      "YardLineDirection                   0.0%\n",
      "IsTwoPointConversion                0.0%\n",
      "IsPenaltyAccepted                   0.0%\n",
      "IsNoPlay                            0.0%\n",
      "IsIncomplete                        0.0%\n",
      "IsMeasurement                       0.0%\n",
      "PenaltyYards                        0.0%\n",
      "IsChallengeReversed                 0.0%\n",
      "IsTwoPointConversionSuccessful      0.0%\n",
      "YardLineFixed                       0.0%\n",
      "IsPenalty                           0.0%\n",
      "IsFumble                            0.0%\n",
      "IsInterception                      0.0%\n",
      "GameId                              0.0%\n",
      "IsPass                              0.0%\n",
      "IsChallenge                         0.0%\n",
      "SeriesFirstDown                     0.0%\n",
      "Quarter                             0.0%\n",
      "Minute                              0.0%\n",
      "Second                              0.0%\n",
      "Down                                0.0%\n",
      "ToGo                                0.0%\n",
      "YardLine                            0.0%\n",
      "NextScore                           0.0%\n",
      "IsSack                              0.0%\n",
      "TeamWin                             0.0%\n",
      "SeasonYear                          0.0%\n",
      "Yards                               0.0%\n",
      "IsRush                              0.0%\n",
      "GameDate                            0.0%\n",
      "IsTouchdown                         0.0%\n",
      "File                                0.0%\n",
      "dtype: object    \n",
      "\n"
     ]
    }
   ],
   "source": [
    "print(F'Data of {pbp_df[\"GameId\"].nunique()} individual Games.')\n",
    "\n",
    "print(F'''\n",
    "Shape: {pbp_df.shape}\n",
    "      \n",
    "Columns:\n",
    "{pbp_df.columns.tolist()}''')\n",
    "\n",
    "print(F\"\"\"\n",
    "Missing:\n",
    "{pbp_df.isnull().mean().mul(100).sort_values(ascending = False).round(2).astype(str) + '%'}    \n",
    "\"\"\")"
   ]
  },
  {
   "cell_type": "code",
   "execution_count": 5,
   "metadata": {},
   "outputs": [],
   "source": [
    "# drop unnecessary columns\n",
    "pbp_df = pbp_df.drop(labels = ['Unnamed: 12', 'Unnamed: 10', 'Unnamed: 16', 'Unnamed: 17', 'Challenger'], axis = 1)"
   ]
  },
  {
   "cell_type": "code",
   "execution_count": 6,
   "metadata": {},
   "outputs": [
    {
     "data": {
      "text/plain": [
       "1287.20625"
      ]
     },
     "execution_count": 6,
     "metadata": {},
     "output_type": "execute_result"
    }
   ],
   "source": [
    "# show how many points of data are available for every team per year\n",
    "pbp_df.groupby(['OffenseTeam', 'File']).size().mean() "
   ]
  },
  {
   "cell_type": "code",
   "execution_count": 7,
   "metadata": {},
   "outputs": [
    {
     "data": {
      "text/plain": [
       "array([nan, 'EXCEPTION', 'TIMEOUT', 'KICK OFF', 'QB KNEEL', 'PASS',\n",
       "       'SACK', 'RUSH', 'CLOCK STOP', 'PUNT', 'EXTRA POINT', 'NO PLAY',\n",
       "       'FIELD GOAL', 'SCRAMBLE', 'FUMBLES', 'TWO-POINT CONVERSION',\n",
       "       'PENALTY', '0'], dtype=object)"
      ]
     },
     "execution_count": 7,
     "metadata": {},
     "output_type": "execute_result"
    }
   ],
   "source": [
    "pbp_df['PlayType'].unique()"
   ]
  },
  {
   "cell_type": "code",
   "execution_count": 8,
   "metadata": {},
   "outputs": [
    {
     "data": {
      "text/plain": [
       "<matplotlib.axes._subplots.AxesSubplot at 0x1b0581cc048>"
      ]
     },
     "execution_count": 8,
     "metadata": {},
     "output_type": "execute_result"
    },
    {
     "data": {
      "image/png": "[encoded data removed]",
      "text/plain": [
       "<Figure size 432x288 with 1 Axes>"
      ]
     },
     "metadata": {
      "needs_background": "light"
     },
     "output_type": "display_data"
    }
   ],
   "source": [
    "pbp_df['PlayType'].value_counts().plot(kind = 'bar')"
   ]
  },
  {
   "cell_type": "code",
   "execution_count": 9,
   "metadata": {},
   "outputs": [],
   "source": [
    "# reduce down to relevant play types\n",
    "pbp_df_simple = pbp_df.loc[pbp_df['PlayType'].isin(['PASS','RUSH'])]"
   ]
  },
  {
   "cell_type": "code",
   "execution_count": 10,
   "metadata": {},
   "outputs": [
    {
     "data": {
      "text/plain": [
       "array([nan, 'UNDER CENTER', 'NO HUDDLE', 'SHOTGUN', 'PUNT',\n",
       "       'NO HUDDLE SHOTGUN', 'FIELD GOAL', 'WILDCAT', 'DEEP LEFT'],\n",
       "      dtype=object)"
      ]
     },
     "execution_count": 10,
     "metadata": {},
     "output_type": "execute_result"
    }
   ],
   "source": [
    "pbp_df['Formation'].unique()"
   ]
  },
  {
   "cell_type": "code",
   "execution_count": 11,
   "metadata": {},
   "outputs": [
    {
     "data": {
      "text/plain": [
       "<matplotlib.axes._subplots.AxesSubplot at 0x1b0581f9588>"
      ]
     },
     "execution_count": 11,
     "metadata": {},
     "output_type": "execute_result"
    },
    {
     "data": {
      "image/png": "[encoded data removed]",
      "text/plain": [
       "<Figure size 432x288 with 1 Axes>"
      ]
     },
     "metadata": {
      "needs_background": "light"
     },
     "output_type": "display_data"
    }
   ],
   "source": [
    "pbp_df['Formation'].value_counts().plot(kind = 'bar')"
   ]
  },
  {
   "cell_type": "code",
   "execution_count": 12,
   "metadata": {},
   "outputs": [],
   "source": [
    "pbp_df = pbp_df.loc[pbp_df['Formation'].isin(['UNDER CENTER', 'NO HUDDLE', 'SHOTGUN', 'NO HUDDLE SHOTGUN'])]"
   ]
  }
 ],
 "metadata": {
  "kernelspec": {
   "display_name": "Python 3",
   "language": "python",
   "name": "python3"
  },
  "language_info": {
   "codemirror_mode": {
    "name": "ipython",
    "version": 3
   },
   "file_extension": ".py",
   "mimetype": "text/x-python",
   "name": "python",
   "nbconvert_exporter": "python",
   "pygments_lexer": "ipython3",
   "version": "3.7.7"
  }
 },
 "nbformat": 4,
 "nbformat_minor": 4
}
